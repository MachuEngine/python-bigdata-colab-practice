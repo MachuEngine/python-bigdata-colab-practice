{
  "nbformat": 4,
  "nbformat_minor": 0,
  "metadata": {
    "colab": {
      "provenance": [],
      "authorship_tag": "ABX9TyMBq7Jicrsw4D6QNOahIWTP",
      "include_colab_link": true
    },
    "kernelspec": {
      "name": "python3",
      "display_name": "Python 3"
    },
    "language_info": {
      "name": "python"
    }
  },
  "cells": [
    {
      "cell_type": "markdown",
      "metadata": {
        "id": "view-in-github",
        "colab_type": "text"
      },
      "source": [
        "<a href=\"https://colab.research.google.com/github/MachuEngine/python-bigdata-colab-practice/blob/main/hw1.ipynb\" target=\"_parent\"><img src=\"https://colab.research.google.com/assets/colab-badge.svg\" alt=\"Open In Colab\"/></a>"
      ]
    },
    {
      "cell_type": "markdown",
      "source": [
        ">#  HW1. 관측 이래 최고 기온 발생 날짜 및 값 구하기\n",
        "학번: A70064, 이름: 안종민"
      ],
      "metadata": {
        "id": "8zkcNcjolF-g"
      }
    },
    {
      "cell_type": "code",
      "execution_count": null,
      "metadata": {
        "id": "6q5sB1H2o0fP"
      },
      "outputs": [],
      "source": [
        "from google.colab import drive\n",
        "import os\n",
        "import csv"
      ]
    },
    {
      "cell_type": "markdown",
      "source": [
        "### 환경 설정 및 한글 폰트 로드\n",
        "\n",
        "1. **라이브러리 임포트**\n",
        "- `google.colab.drive`: Colab에서 내 Google Drive를 마운트해 파일에 접근하기 위해 사용\n",
        "- `os`: 파일 경로를 다루거나 현재 작업 디렉토리를 확인할 때 사용\n",
        "- `csv`: CSV 형식의 데이터를 읽고 쓸 때 사용"
      ],
      "metadata": {
        "id": "6KFz5KFxl5UV"
      }
    },
    {
      "cell_type": "code",
      "source": [
        "drive.mount('./gdrive', force_remount=True)\n",
        "print(os.getcwd())"
      ],
      "metadata": {
        "colab": {
          "base_uri": "https://localhost:8080/"
        },
        "id": "uVyo93dssFHI",
        "outputId": "f5483d1c-abdc-434d-c774-5b74e00fb018"
      },
      "execution_count": null,
      "outputs": [
        {
          "output_type": "stream",
          "name": "stdout",
          "text": [
            "Mounted at ./gdrive\n",
            "/content\n"
          ]
        }
      ]
    },
    {
      "cell_type": "markdown",
      "source": [
        "### Google Drive 마운트\n",
        "- gdrive로 My Google Drive를 마운트 합니다."
      ],
      "metadata": {
        "id": "D--y-TlKl9zV"
      }
    },
    {
      "cell_type": "code",
      "source": [
        "f = open('./gdrive/MyDrive/Colab Notebooks/ch4_temperature/temperature.csv', 'r', encoding='cp949')\n",
        "data = csv.reader(f, delimiter=',')\n",
        "\n",
        "# 헤더 건너 뛰기\n",
        "# next(data) 를 호출하면 첫 번째 행(헤더)을 반환하면서 이터레이터 내부 포인터가 다음 행으로 넘어감.\n",
        "header = next(data)  # ['날짜', '지점', '평균기온(℃)', '최저기온(℃)', '최고기온(℃)']\n",
        "\n",
        "# 최고기온 찾기 및 오류 처리\n",
        "max_temp = None\n",
        "max_row  = None\n",
        "errors   = []\n",
        "\n",
        "# data 순회\n",
        "for lineno, row in enumerate(data, start=2):\n",
        "  # 빈 행은 건너뛰기\n",
        "  if not row:\n",
        "    continue\n",
        "\n",
        "  # 컬럼 개수가 기대치(여기선 최소 5개)보다 작으면 건너뛰기\n",
        "  if len(row) < 5:\n",
        "    continue\n",
        "\n",
        "  try:\n",
        "    row[-1] = float(row[-1])\n",
        "  except ValueError:\n",
        "    errors.append((lineno, row))\n",
        "    continue\n",
        "\n",
        "  # 최고기온 갱신\n",
        "  if (max_temp is None) or (row[-1] > max_temp):\n",
        "    max_temp = row[-1]\n",
        "    max_row  = row\n",
        "\n",
        "# 데이터 수집 종료\n",
        "f.close()"
      ],
      "metadata": {
        "id": "SlM8826asJGr"
      },
      "execution_count": null,
      "outputs": []
    },
    {
      "cell_type": "markdown",
      "source": [
        "### 메인 동작\n",
        "\n",
        "1. **헤더 건너뛰기**\n",
        "- 첫 줄은 컬럼명만 있고 실제 데이터가 아니므로 `next(data)` 로 스킵\n",
        "\n",
        "2. **enumerate 사용**\n",
        "- `start=2`로 설정해, 데이터 첫 행이 원본 CSV의 2번째 줄 번호와 일치하도록 함\n",
        "\n",
        "3. **빈 행·컬럼 부족 행 스킵**\n",
        "- `if not row or len(row) < 5: continue` 로 안전하게 처리\n",
        "\n",
        "4. **try/except로 오류 기록**\n",
        "- `float()` 변환 실패 시 errors.append((lineno, row))\n",
        "\n",
        "5. **최고기온 갱신**\n",
        "- `max_temp`가 `None`이거나, 현재 `temp`가 더 크면 업데이트\n",
        "\n",
        "6. **파일 핸들 정리**\n",
        "- `f.close()` 로 파일을 닫아 리소스를 해제"
      ],
      "metadata": {
        "id": "bwG-9mLvmEtE"
      }
    },
    {
      "cell_type": "code",
      "source": [
        "# 결과 출력\n",
        "print(f'기상 관측 이래, 최고 기온이 가장 높았던 날은 {max_row[0].strip()}로, {max_temp} 도 입니다.')\n",
        "\n",
        "# 결측치/오류 결과 출력\n",
        "print(f'결측 및 오류가 발생한 일수는 {len(errors)}일입니다.')"
      ],
      "metadata": {
        "colab": {
          "base_uri": "https://localhost:8080/"
        },
        "id": "lRc-7xX959TK",
        "outputId": "1730b4c2-b237-4bbf-f682-81dbc3dd6ca2"
      },
      "execution_count": null,
      "outputs": [
        {
          "output_type": "stream",
          "name": "stdout",
          "text": [
            "기상 관측 이래, 최고 기온이 가장 높았던 날은 2018-08-01로, 39.6 도 입니다.\n",
            "결측 및 오류가 발생한 일수는 759일입니다.\n"
          ]
        }
      ]
    },
    {
      "cell_type": "markdown",
      "source": [
        "### 결과 출력\n",
        "\n",
        "1. `.strip()` 사용하여 연도 출력 시 생기는 앞뒤 space를 제거"
      ],
      "metadata": {
        "id": "00E6jhrWmkUj"
      }
    },
    {
      "cell_type": "markdown",
      "source": [
        "#  1. 에러 발생 상황 및 원인\n",
        "\n",
        "#### 1) **헤더 포함 여부 미처리**  \n",
        "   - `csv.reader` 로 읽은 `data`의 첫 행이 헤더(컬럼명)인데, 이를 건너뛰지 않으면 숫자 변환 시도 시 `ValueError` 발생  \n",
        "\n",
        "#### 2) **빈 행(Empty row) 또는 컬럼 누락**  \n",
        "   - CSV 파일에 공백 줄이 있거나, 쉼표 개수가 달라 한 줄이 `[]` 또는 `['…']` 형태로 읽히면  \n",
        "   - `row[-1]` 접근 시 `IndexError: list index out of range` 에러 발생  \n",
        "\n",
        "#### 3) **비숫자(Non-numeric) 문자열**  \n",
        "   - 최고기온 컬럼에 `\"\"`(빈 문자열) 혹은 `\"-\"` 같은 결측치 마커가 있을 경우  \n",
        "   - `float(row[-1])` 변환 시 `ValueError: could not convert string to float` 발생  \n",
        "\n",
        "<br>\n",
        "\n",
        "---\n",
        "\n",
        "<br>\n",
        "\n",
        "# 2. 해결 방안\n",
        "\n",
        "#### 1) **헤더 건너뛰기**  \n",
        "   ```python\n",
        "   header = next(reader)\n",
        "   ```\n",
        "- 첫 번째 행(컬럼명)을 꺼내어 변수에 저장하고, 데이터 수집을 위한 반복문에서는 실제 데이터만 처리하여 해결할 수 있습니다.\n",
        "\n",
        "#### 2) **빈 행 및 컬럼 개수 검사**\n",
        "  ```python\n",
        "  if not row:\n",
        "    continue\n",
        "  if len(row) < 5:    # ['날짜','지점','평균','최저','최고'] 최소 5개\n",
        "    continue\n",
        "  ```\n",
        "- row가 빈 리스트일 때나, 컬럼 개수가 예상보다 적을 때 해당 행 건너뜁니다.\n",
        "\n",
        "#### 3) **ValueError 처리 (결측치 로그 및 건너뛰기)**\n",
        "  ```python\n",
        "    try:\n",
        "        row[-1] = float(row[-1])\n",
        "    except ValueError:\n",
        "        errors.append((lineno, row))\n",
        "        continue\n",
        "  ```\n",
        "- 필요한 데이터인 마지막 컬럼(최고기온)만 실수 변환 시도합니다.\n",
        "- 실패할 경우 예외처리를 위하여 errors 리스트에 (행번호, 원본행) 형태로 기록 후 다음 행으로 건너뜁니다."
      ],
      "metadata": {
        "id": "yfTbcIDL4d4L"
      }
    }
  ]
}