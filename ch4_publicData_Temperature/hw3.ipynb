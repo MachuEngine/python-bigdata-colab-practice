{
  "nbformat": 4,
  "nbformat_minor": 0,
  "metadata": {
    "colab": {
      "provenance": [],
      "authorship_tag": "ABX9TyOKX6oj2fFCYf+4rPolUY7l",
      "include_colab_link": true
    },
    "kernelspec": {
      "name": "python3",
      "display_name": "Python 3"
    },
    "language_info": {
      "name": "python"
    }
  },
  "cells": [
    {
      "cell_type": "markdown",
      "metadata": {
        "id": "view-in-github",
        "colab_type": "text"
      },
      "source": [
        "<a href=\"https://colab.research.google.com/github/MachuEngine/python-bigdata-colab-practice/blob/main/hw3.ipynb\" target=\"_parent\"><img src=\"https://colab.research.google.com/assets/colab-badge.svg\" alt=\"Open In Colab\"/></a>"
      ]
    },
    {
      "cell_type": "markdown",
      "source": [
        ">#  HW3. 기온데이터 중 1월과 8월의 최고 기온을 히스토그램으로 표현\n",
        "학번: A70064, 이름: 안종민"
      ],
      "metadata": {
        "id": "kuSzgZP8Qwh6"
      }
    },
    {
      "cell_type": "code",
      "execution_count": 7,
      "metadata": {
        "colab": {
          "base_uri": "https://localhost:8080/"
        },
        "id": "a1tt3k3-Kum3",
        "outputId": "906c4fab-32bf-45be-a4e0-06e3b8a1d15b"
      },
      "outputs": [
        {
          "output_type": "stream",
          "name": "stdout",
          "text": [
            "/usr/share/fonts: caching, new cache contents: 0 fonts, 1 dirs\n",
            "/usr/share/fonts/truetype: caching, new cache contents: 0 fonts, 3 dirs\n",
            "/usr/share/fonts/truetype/humor-sans: caching, new cache contents: 1 fonts, 0 dirs\n",
            "/usr/share/fonts/truetype/liberation: caching, new cache contents: 16 fonts, 0 dirs\n",
            "/usr/share/fonts/truetype/nanum: caching, new cache contents: 12 fonts, 0 dirs\n",
            "/usr/local/share/fonts: caching, new cache contents: 0 fonts, 0 dirs\n",
            "/root/.local/share/fonts: skipping, no such directory\n",
            "/root/.fonts: skipping, no such directory\n",
            "/usr/share/fonts/truetype: skipping, looped directory detected\n",
            "/usr/share/fonts/truetype/humor-sans: skipping, looped directory detected\n",
            "/usr/share/fonts/truetype/liberation: skipping, looped directory detected\n",
            "/usr/share/fonts/truetype/nanum: skipping, looped directory detected\n",
            "/var/cache/fontconfig: cleaning cache directory\n",
            "/root/.cache/fontconfig: not cleaning non-existent cache directory\n",
            "/root/.fontconfig: not cleaning non-existent cache directory\n",
            "fc-cache: succeeded\n"
          ]
        }
      ],
      "source": [
        "from google.colab import drive\n",
        "import os\n",
        "import csv\n",
        "\n",
        "# 한글 폰트 설치 & 캐시 갱신\n",
        "# 시스템에 나눔글꼴 설치 (fonts-nanum)\n",
        "!apt-get install fonts-nanum -qq\n",
        "# 새로 설치된 폰트를 Matplotlib 등에서 인식하도록 캐시 갱신\n",
        "!fc-cache -fv\n",
        "import matplotlib.pyplot as plt\n",
        "import matplotlib.font_manager as fm"
      ]
    },
    {
      "cell_type": "markdown",
      "source": [
        "### 환경 설정 및 한글 폰트 로드\n",
        "\n",
        "1. **라이브러리 임포트**\n",
        "- `google.colab.drive`: Colab에서 내 Google Drive를 마운트해 파일에 접근하기 위해 사용\n",
        "- `os`: 파일 경로를 다루거나 현재 작업 디렉토리를 확인할 때 사용\n",
        "- `csv`: CSV 형식의 데이터를 읽고 쓸 때 사용\n",
        "\n",
        "2. **나눔글꼴 설치 & 캐시 갱신**\n",
        "- `!apt-get install fonts-nanum -qq`\n",
        "  - Ubuntu의 `apt` 패키지 매니저를 통해 ‘fonts-nanum’ 패키지를 설치\n",
        "  - `-qq` 옵션은 설치 로그를 최소화하여 셀 출력이 깔끔해지도록 함\n",
        "- `!fc-cache -fv`\n",
        "  - Fontconfig의 캐시를 강제로(`-f`) 다시 생성하고(`-v`: 자세히 출력) 시스템에 새로 설치된 폰트를 즉시 인식하게 만듦\n",
        "\n",
        "3. **Matplotlib 임포트**\n",
        "- `matplotlib.pyplot`: 그래프(라인, 바, 산점도 등)를 그릴 때 사용\n",
        "- `matplotlib.font_manager`: 나눔글꼴(TTF 파일)을 Matplotlib에 등록하고, 그래프 제목·축 레이블 등에 한글 폰트를 적용할 때 사용"
      ],
      "metadata": {
        "id": "WPRXeBrYOHi8"
      }
    },
    {
      "cell_type": "code",
      "source": [
        "drive.mount('./gdrive', force_remount=True)\n",
        "print(os.getcwd())"
      ],
      "metadata": {
        "colab": {
          "base_uri": "https://localhost:8080/"
        },
        "id": "jQA1QCtHLY5y",
        "outputId": "d1ae87af-f2e1-44c8-c569-68514ca9b9e6"
      },
      "execution_count": 8,
      "outputs": [
        {
          "output_type": "stream",
          "name": "stdout",
          "text": [
            "Mounted at ./gdrive\n",
            "/content\n"
          ]
        }
      ]
    },
    {
      "cell_type": "markdown",
      "source": [
        "### Google Drive 마운트\n",
        "- gdrive로 My Google Drive를 마운트 합니다."
      ],
      "metadata": {
        "id": "0q9LLscUOLs8"
      }
    },
    {
      "cell_type": "code",
      "source": [
        "# [데이터 수집]\n",
        "\n",
        "f = open('./gdrive/MyDrive/Colab Notebooks/ch4_temperature/temperature.csv', 'r', encoding='cp949')\n",
        "data = csv.reader(f, delimiter=',')\n",
        "\n",
        "# 헤더 건너 뛰기\n",
        "header = next(data)  # ['날짜', '지점', '평균기온(℃)', '최저기온(℃)', '최고기온(℃)']\n",
        "\n",
        "# 1월/8월 최고기온 리스트 초기화\n",
        "january_high_temp = []\n",
        "august_high_temp = []\n",
        "\n",
        "# 데이터 수집 시작\n",
        "for row in data:\n",
        "  # 빈 행은 건너뛰기\n",
        "  if not row:\n",
        "    continue\n",
        "\n",
        "  # 컬럼 개수가 기대치(여기선 최소 5개)보다 작으면 건너뛰기\n",
        "  if len(row) < 5:\n",
        "    continue\n",
        "\n",
        "  # 날짜 데이터 -로 split한 후 year, month, day에 각각 저장\n",
        "  try:\n",
        "    year, month, day = map(int, row[0].split('-'))\n",
        "  except (ValueError, AttributeError):\n",
        "    # row[0]이 \"YYYY-MM-DD\" 가 아닐 때\n",
        "    continue\n",
        "\n",
        "  # 1월과 8월 최고기온을 리스트에 각각 저장\n",
        "  if month == 1:\n",
        "    try:\n",
        "      row[-1] = float(row[-1])\n",
        "    except ValueError:\n",
        "      continue\n",
        "    january_high_temp.append(float(row[-1]))\n",
        "  elif month == 8:\n",
        "    try:\n",
        "      row[-1] = float(row[-1])\n",
        "    except ValueError:\n",
        "      continue\n",
        "    august_high_temp.append(float(row[-1]))\n",
        "\n",
        "# 데이터 수집 종료\n",
        "f.close()"
      ],
      "metadata": {
        "id": "IlHdERGVLYz7"
      },
      "execution_count": 9,
      "outputs": []
    },
    {
      "cell_type": "markdown",
      "source": [
        "### 메인 동작\n",
        "\n",
        "1. CSV 파일 열기\n",
        "- `cp949` 인코딩으로 읽어옴\n",
        "\n",
        "2. 헤더 제거\n",
        "- 첫 줄(컬럼명) 은 데이터가 아니므로 스킵\n",
        "\n",
        "3. 루프별 검증\n",
        "- 빈 행 또는 컬럼 수가 5개 미만인 행 건너뜀\n",
        "- 날짜 칼럼을 파싱하지 못하면 건너뜀\n",
        "\n",
        "4. 필터링\n",
        "- 1월과 8월인 경우에만 처리\n",
        "\n",
        "5. 기온 값 변환 및 저장\n",
        "- 문자열 형태의 최고 기온을 `float` 로 변환\n",
        "- `january_high_temp`, `august_high_temp` 리스트에 추가\n",
        "\n",
        "6. 파일 종료\n",
        "- `f.close()` 로 파일 핸들 정리"
      ],
      "metadata": {
        "id": "dE6rXZ4-PEz3"
      }
    },
    {
      "cell_type": "code",
      "source": [
        "# [데이터 시각화]\n",
        "\n",
        "# 폰트 파일 경로 지정\n",
        "font_path = '/usr/share/fonts/truetype/nanum/NanumGothic.ttf'\n",
        "# 폰트를 Matplotlib 전역에 추가\n",
        "fm.fontManager.addfont(font_path)\n",
        "# 폰트 내부 이름 확인 (optional)\n",
        "font_prop = fm.FontProperties(fname=font_path)\n",
        "# rcParams 에서 이 이름을 기본 폰트로 설정\n",
        "plt.rc('font', family=font_prop.get_name())\n",
        "plt.rcParams['axes.unicode_minus'] = False  # 마이너스 기호 깨짐 방지\n",
        "\n",
        "plt.figure(figsize=(12, 6))\n",
        "\n",
        "# 1월 최고기온 히스토그램 (파랑)\n",
        "plt.hist(january_high_temp, bins=100, color='blue', alpha=0.7, label='1월')\n",
        "\n",
        "# 8월 최고기온 히스토그램 (빨강)\n",
        "plt.hist(august_high_temp, bins=100, color='red', alpha=0.7, label='8월')\n",
        "\n",
        "# 그래프 제목 및 축 레이블 설정\n",
        "plt.title('1월과 8월의 최고 기온 히스토그램')\n",
        "plt.xlabel('기온(℃)')\n",
        "plt.ylabel('빈도수')\n",
        "plt.legend()\n",
        "plt.grid(True)\n",
        "plt.show()"
      ],
      "metadata": {
        "colab": {
          "base_uri": "https://localhost:8080/",
          "height": 562
        },
        "id": "yc2s0dboLYvg",
        "outputId": "d5b45512-e54b-424a-abd9-b4af6620932c"
      },
      "execution_count": 10,
      "outputs": [
        {
          "output_type": "display_data",
          "data": {
            "text/plain": [
              "<Figure size 1200x600 with 1 Axes>"
            ],
            "image/png": "[encoded data removed]"
          },
          "metadata": {}
        }
      ]
    },
    {
      "cell_type": "markdown",
      "source": [
        "### 결과 출력 - 데이터 시각화\n",
        "\n",
        "1. 폰트 등록\n",
        "- `fm.fontManager.addfont()` 로 TTF 파일을 추가\n",
        "- `FontProperties` 로 내부 이름을 알아낸 뒤 `plt.rc()` 에 설정\n",
        "\n",
        "2. 히스토그램 작성\n",
        "- 1월 히스토그램\n",
        "  - `january_high_temp` 리스트를 히스토그램 형태로 시각화.\n",
        "  - `bin` 수 = 100: 기온을 100개의 구간으로 나누어 빈도 표시.\n",
        "  - 파란색(`blue`), 반투명도(`alpha`=0.7) 설정.\n",
        "- 8월 히스토그램\n",
        "  - `august_high_temp` 리스트를 히스토그램 형태로 시각화.\n",
        "  - 빨간색(`red`)으로 표시하여 1월과 구분."
      ],
      "metadata": {
        "id": "-e7_SMqdPedI"
      }
    }
  ]
}
